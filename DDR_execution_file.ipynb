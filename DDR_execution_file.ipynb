{
 "cells": [
  {
   "cell_type": "code",
   "execution_count": null,
   "id": "46f0e33d",
   "metadata": {},
   "outputs": [],
   "source": [
    "import numpy as np\n",
    "import pandas as pd\n",
    "import cython as cy\n",
    "import gensim as gs"
   ]
  },
  {
   "cell_type": "code",
   "execution_count": null,
   "id": "c8f47451",
   "metadata": {},
   "outputs": [],
   "source": [
    "import ddr"
   ]
  },
  {
   "cell_type": "code",
   "execution_count": null,
   "id": "c4d5e1cb",
   "metadata": {},
   "outputs": [],
   "source": [
    "# Define file paths here \n",
    "\n",
    "Guardian_path = './DDR-master/Guardian_full_comment_data.csv'\n",
    "DM_path = './DDR-master/DM_full_comment_data.csv'\n",
    "dictionary_directory = './DDR-master/dic_vecs.tsv'\n",
    "model_path = './DDR-master/GoogleNews-vectors-negative300.bin'\n",
    "dictionary_vector_path = './agg_dic_vectors.tsv'\n",
    "document_vector_path = './agg_doc_vecs.tsv'\n",
    "document_loadings_out_path = './document_dictionary_loadings.tsv' "
   ]
  },
  {
   "cell_type": "code",
   "execution_count": null,
   "id": "c8c89c7d",
   "metadata": {
    "scrolled": true
   },
   "outputs": [],
   "source": [
    "# Load Word2Vec model\n",
    "\n",
    "model, num_features, model_word_set=ddr.load_model(model_path)"
   ]
  },
  {
   "cell_type": "code",
   "execution_count": null,
   "id": "d7e2f570",
   "metadata": {},
   "outputs": [],
   "source": [
    "# Aggregate document vectors\n",
    "\n",
    "agg_doc_vecs = ddr.doc_vecs_from_csv(input_path = Guardian_path,\n",
    "output_path = document_vector_path,\n",
    "model = model,\n",
    "num_features = num_features,\n",
    "model_word_set = model_word_set,\n",
    "text_col = 0, delimiter=',', header=False)"
   ]
  },
  {
   "cell_type": "code",
   "execution_count": null,
   "id": "306159e6",
   "metadata": {},
   "outputs": [],
   "source": [
    "# Get document dictionary loadings\n",
    "\n",
    "loadings = ddr.get_loadings(agg_doc_vecs_path=document_vector_path, agg_dic_vecs_path=dictionary_directory, out_path=document_loadings_out_path, \n",
    "             num_features=num_features, delimiter = '\\t')"
   ]
  }
 ],
 "metadata": {
  "kernelspec": {
   "display_name": "Python 3 (ipykernel)",
   "language": "python",
   "name": "python3"
  },
  "language_info": {
   "codemirror_mode": {
    "name": "ipython",
    "version": 3
   },
   "file_extension": ".py",
   "mimetype": "text/x-python",
   "name": "python",
   "nbconvert_exporter": "python",
   "pygments_lexer": "ipython3",
   "version": "3.9.7"
  },
  "widgets": {
   "application/vnd.jupyter.widget-state+json": {
    "state": {},
    "version_major": 2,
    "version_minor": 0
   }
  }
 },
 "nbformat": 4,
 "nbformat_minor": 5
}
